# Assignment #Loops -10 March 2022
# Task: Password Validation
# IIPRSS1312
# Ashirvad Jain

pwd= input("please enter the password")
isSpecialCharactor=False
print(f"Entered Password:{pwd}")

if(len(pwd) < 6 or len(pwd) >15):
  print("Passowrd must be length of 6 or less than 15 char")
#digit check
elif not (pwd.isdigit()):
   print("Passoword must contain atleast one digit")
# special character check
elif not("#"in pwd or "@"in pwd or "$"in pwd):
   print("Passoword must contain any special character [ $,#,@]")

else:
  lowerCount=0
  upperCount=0
  for element in range(0, len(pwd)):
    #print(f"Element Value {pwd[element]}")
    if(pwd[element].islower()):
      lowerCount = lowerCount+1;
    elif(pwd[element].isupper()):
      upperCount=upperCount +1;
    #print(f"lower count:{lowerCount}")
    #print(f"upper count:{upperCount}")
  if(lowerCount>0 and upperCount>0):
    print("Password is accepted")
    exit
  else:
    print("Password Must contain aleast one lower & One Upper case character")
